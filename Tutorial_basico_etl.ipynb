{
 "cells": [
  {
   "cell_type": "markdown",
   "metadata": {},
   "source": [
    "# Introdução"
   ]
  },
  {
   "cell_type": "markdown",
   "metadata": {},
   "source": [
    "Nesse tutorial vamos aprender o básico sobre as etapas de uma rotina de ETL(extract, transform and load). A ideia aqui é utilizar um dataset público real para demonstrar como implementar as diferentes etapas dessa rotina. É importante lembrar que esse tutorial exige um conhecimento básico de [Python](https://www.python.org/) e [Jupyter Notebook](https://jupyter.org/). As ferramentas necessárias para seguir esse tutorial são:\n",
    "\n",
    "- [Python 3.6 ou maior](https://www.python.org/downloads/);\n",
    "- [Jupyter Notebook](https://jupyter.org/install);\n",
    "- [Pip](https://pip.pypa.io/en/stable/installing/).\n",
    "\n"
   ]
  },
  {
   "cell_type": "markdown",
   "metadata": {},
   "source": [
    "Após instalar o `pip` é necessário instalar as dependências descritas no arquivo `requiremets.txt`. Sugiro utilizar um [ambiente virtual do python](https://docs.python.org/3/library/venv.html) para isolar a instalação das dependências. Para seguir com a instalação execute:\n",
    "\n",
    "```bash\n",
    "$ pip install -r requirements.txt\n",
    "```"
   ]
  },
  {
   "cell_type": "markdown",
   "metadata": {},
   "source": [
    "## A fonte de dados"
   ]
  },
  {
   "cell_type": "markdown",
   "metadata": {},
   "source": [
    "Escolhi a fonte de dados abertos da CVM contendo a cotação diária dos fundos de investimentos negociados no mercado brasileiro. Essa fonte é atualizada diariamente com os dados de fechamento do dia anterior e as contações são agrupadas por arquivos correspondentes a cada mês do ano.\n",
    "\n",
    "Esse é um cenário bem comum em fontes de dados abertas, uma série de arquivos no formato CSV agrupando informações de acordo com a data, então a solução que vamos implementar durante o tutorial é reaproveitável para outras fontes de dados."
   ]
  },
  {
   "cell_type": "markdown",
   "metadata": {},
   "source": [
    "Primeiro é importante analisar a fonte de dados, entender como ela está estruturada, quais campos compõem o dataset e como nós podemos automatizar a coleta dos dados."
   ]
  },
  {
   "cell_type": "markdown",
   "metadata": {},
   "source": [
    "A fonte de dados contendo a cotação diária dos fundos pode ser acessada através do [portal de dados abertos](http://www.dados.gov.br) pelo link:\n",
    "\n",
    "[http://www.dados.gov.br/dataset/fi-doc-inf_diario](http://www.dados.gov.br/dataset/fi-doc-inf_diario)"
   ]
  },
  {
   "cell_type": "markdown",
   "metadata": {},
   "source": [
    "Aqui tem uma descrição rápida sobre as informações que existem no dataset:\n",
    "![](img/descricao_dataset.png)"
   ]
  },
  {
   "cell_type": "markdown",
   "metadata": {},
   "source": [
    "Além de um link para o recurso contendo o dicionário de dados que descreve cada campo do dataset, é **sempre muito importante analisar o dicionário de dados do dataset, se disponível.** Não vou entrar em detalhes sobre as descrições do dicionário para não estender o tutorial, mas sugiro que você olhe para ser familiarizar com esse tipo de formato.\n",
    "\n",
    "![](img/link_dicionario.png)"
   ]
  },
  {
   "cell_type": "markdown",
   "metadata": {},
   "source": [
    "## Como automatizar o download "
   ]
  },
  {
   "cell_type": "markdown",
   "metadata": {},
   "source": [
    "Agora partindo para como nós podemos automatizar a extração dos datasets, podemos observar que no site existe um link para todos os datasets dos últimos 12 meses. Primeiro precisamos analisar se existe um padrão nas urls de download dos arquivos, para isso vamos copiar alguns endereços e compará-los.\n",
    "\n",
    "Para copiar os endereços clique com o botão direito no botão **\"Ir para recurso\"** e selecione a opção **\"Copiar link\"**:\n",
    "\n",
    "![](img/link_recurso.png)\n",
    "\n",
    "Copiei três links e vamos compará-los a seguir:\n",
    "\n",
    "[http://dados.cvm.gov.br/dados/FI/DOC/INF_DIARIO/DADOS/inf_diario_fi_201907.csv](http://dados.cvm.gov.br/dados/FI/DOC/INF_DIARIO/DADOS/inf_diario_fi_201907.csv)\n",
    "\n",
    "[http://dados.cvm.gov.br/dados/FI/DOC/INF_DIARIO/DADOS/inf_diario_fi_201910.csv](http://dados.cvm.gov.br/dados/FI/DOC/INF_DIARIO/DADOS/inf_diario_fi_201910.csv)\n",
    "\n",
    "[http://dados.cvm.gov.br/dados/FI/DOC/INF_DIARIO/DADOS/inf_diario_fi_202003.csv](http://dados.cvm.gov.br/dados/FI/DOC/INF_DIARIO/DADOS/inf_diario_fi_202003.csv)\n",
    "\n",
    "Como podemos observar existe um padrão claro nos links:`dados.cvm.gov.br/dados/FI/DOC/INF_DIARIO/DADOS/inf_diario_fi_YYYYMM.csv`. A única variação é o mês e o ano de referência do dataset. Com essa análise nossa tarefa de automatizar o download dos datasets ficou mais simples, porque agora podemos gerar sistematicamente o intervalo de datas que queremos baixar."
   ]
  },
  {
   "cell_type": "markdown",
   "metadata": {},
   "source": [
    "# Let's CODE"
   ]
  },
  {
   "cell_type": "markdown",
   "metadata": {},
   "source": [
    "## Extração"
   ]
  },
  {
   "cell_type": "markdown",
   "metadata": {},
   "source": [
    "O processo de extração consiste nesse caso em fazer o download de todos os arquivos da janela de tempo q nos interessa. As etapas pra nós atingirmos esse objetivo são:\n",
    "\n",
    "1. Automatizar a geração do nome dos arquivos: já que a única coisa que varia nos links é o nome dos arquivos precisamos automatizar a geração desses nomes de acordo com a janela de tempo do nosso interesse;\n",
    "\n",
    "2. Requisitar o arquivo: precisamos enviar uma requisição para o portal de dados abertos do arquivo que queremos fazer o download;\n",
    "\n",
    "3. Salvar arquivo: o portal de dados abertos vai nos enviar o arquivo requisitado e precisamos salvá-lo no nosso computador."
   ]
  },
  {
   "cell_type": "markdown",
   "metadata": {},
   "source": [
    "### Gerando datas"
   ]
  },
  {
   "cell_type": "code",
   "execution_count": 1,
   "metadata": {},
   "outputs": [],
   "source": [
    "from datetime import datetime, timedelta"
   ]
  },
  {
   "cell_type": "markdown",
   "metadata": {},
   "source": [
    "Primeiramente vamos criar uma função para facilitar a criação da lista de datas que nós queremos baixar do site:"
   ]
  },
  {
   "cell_type": "code",
   "execution_count": 2,
   "metadata": {},
   "outputs": [],
   "source": [
    "def generate_dates(initial_date, final_date, increment, format):\n",
    "    \"\"\"\n",
    "    Função para gerar uma lista de datas no formato string.\n",
    "    \n",
    "    Parâmetros:\n",
    "        initial_date = Data inicial da contagem;\n",
    "        \n",
    "        final_date = Data final da contagem;\n",
    "        \n",
    "        increment = Quanto deve ser incrementado da data, em dias, para cada iteração;\n",
    "        \n",
    "        format = Formato da data de saída obedecendo os códigos disponíveis na documentação do python:\n",
    "                 https://docs.python.org/3/library/datetime.html#strftime-and-strptime-format-codes\n",
    "    \"\"\"\n",
    "    date_list = []\n",
    "    \n",
    "    while initial_date < final_date:\n",
    "        date_list.append(initial_date.strftime(format))\n",
    "        initial_date = initial_date + timedelta(days=increment)\n",
    "        \n",
    "    return date_list"
   ]
  },
  {
   "cell_type": "markdown",
   "metadata": {},
   "source": [
    "### Fazendo a requisição e salvando os arquivos "
   ]
  },
  {
   "cell_type": "markdown",
   "metadata": {},
   "source": [
    "Vamos trabalhar agora com a biblioteca python [requests](https://requests.readthedocs.io/en/master/) que facilita a implementação de requisições HTTP, que é essencialmente o tipo de requisição que precisamos fazer para baixar os arquivos da nossa fonte de dados. \n",
    "\n",
    "Para fazer a requisição utilizaremos o método `requests.get()` que recebe como primeiro parâmetro a URL que queremos requisitar, podemos então checar se ocorreu algum erro através do [_status code_](https://developer.mozilla.org/en-US/docs/Web/HTTP/Status) da resposta, o _status code_ `200` significa que a requisição foi bem sucedida. No fim, o conteúdo da resposta pode ser acessado através do atributo `.content`. Recomendo explorar a excelente [documentação da biblioteca](https://requests.readthedocs.io/en/latest/) caso queira conhecer melhor.\n",
    "\n",
    "```python\n",
    ">>> import requests\n",
    "\n",
    ">>> response = requests.get(url)\n",
    "\n",
    ">>> response.content\n",
    "b\"Conteúdo da página\"\n",
    "```"
   ]
  },
  {
   "cell_type": "code",
   "execution_count": 3,
   "metadata": {},
   "outputs": [],
   "source": [
    "import requests"
   ]
  },
  {
   "cell_type": "code",
   "execution_count": 4,
   "metadata": {},
   "outputs": [],
   "source": [
    "def download_files(dates, file_base_name='inf_diario_fi', dir='data/'):\n",
    "    \"\"\"\n",
    "    Função para fazer o download de todos os arquivos das datas disponibilizadas.\n",
    "    \n",
    "    Parâmetros:\n",
    "        dates = Lista de datas;\n",
    "        \n",
    "        file_base_name = Nome base para os arquivos que serão salvos;\n",
    "        \n",
    "        dir = Diretório onde os arquivo serão salvos.\n",
    "    \"\"\"\n",
    "    saved_files = []\n",
    "    # URL base para baixar os arquivos\n",
    "    base_url = \"http://dados.cvm.gov.br/dados/FI/DOC/INF_DIARIO/DADOS\"\n",
    "    \n",
    "    for date in dates:\n",
    "        # Contrói a URL de download do arquivo a partir da data\n",
    "        url = \"{}/inf_diario_fi_{}.csv\".format(base_url, date)\n",
    "        \n",
    "        # Realiza a requisição\n",
    "        response = requests.get(url)\n",
    "                \n",
    "        if response.status_code != 200:\n",
    "            print(\"Erro ao requisitar o arquivo {}\".format(url))\n",
    "            \n",
    "            # Caso ocorra um erro durante a requisição pular para a próxima data\n",
    "            continue\n",
    "        \n",
    "        \n",
    "        file_name = \"{}{}_{}.csv\".format(dir, file_base_name, date)\n",
    "        \n",
    "        # Salva o arquivo\n",
    "        with open(file_name, 'wb') as f:\n",
    "            f.write(response.content)\n",
    "\n",
    "        saved_files.append(file_name)\n",
    "        print('Arquivo {} salvo.'.format(file_name))\n",
    "    \n",
    "    return saved_files"
   ]
  },
  {
   "cell_type": "markdown",
   "metadata": {},
   "source": [
    "Estamos prontos agora para fazer o download dos arquivos, vamos definir duas variáveis para a data inicial e final do período que queremos extrair:"
   ]
  },
  {
   "cell_type": "code",
   "execution_count": 5,
   "metadata": {},
   "outputs": [],
   "source": [
    "initial_date = datetime(year=2019, month=6, day=1)\n",
    "final_date = datetime(year=2020, month=6, day=1)"
   ]
  },
  {
   "cell_type": "markdown",
   "metadata": {},
   "source": [
    "Com a função `generate_dates` vamos gerar a lista de datas do período definido. Precisamos passar a data inicial e final, o quanto queremos incrementar em dias para cada iteração, nesse caso como nossa fonte de dados tem um arquivo por mês devemos incrementar 31 dias a cada iteração. Por último, precisamos especificar o formato da data resultante, devemos utilizar os [códigos de formatação descritos na documentação do Python](https://docs.python.org/3/library/datetime.html#strftime-and-strptime-format-codes) para construir a data no formato que queremos, na fonte de dados a data dos arquivos está no formato: YYYYMM."
   ]
  },
  {
   "cell_type": "code",
   "execution_count": 6,
   "metadata": {},
   "outputs": [],
   "source": [
    "date_list = generate_dates(initial_date, final_date, 31, \"%Y%m\")"
   ]
  },
  {
   "cell_type": "code",
   "execution_count": 7,
   "metadata": {},
   "outputs": [
    {
     "name": "stdout",
     "output_type": "stream",
     "text": [
      "['201906', '201907', '201908', '201909', '201910', '201911', '201912', '202001', '202002', '202003', '202004', '202005']\n"
     ]
    }
   ],
   "source": [
    "print(date_list)"
   ]
  },
  {
   "cell_type": "markdown",
   "metadata": {},
   "source": [
    "Vamos execuar a função de download dos arquivos e assistir a magia acontecer:"
   ]
  },
  {
   "cell_type": "code",
   "execution_count": 8,
   "metadata": {},
   "outputs": [
    {
     "name": "stdout",
     "output_type": "stream",
     "text": [
      "Arquivo data/inf_diario_fi_201906.csv salvo.\n",
      "Arquivo data/inf_diario_fi_201907.csv salvo.\n",
      "Arquivo data/inf_diario_fi_201908.csv salvo.\n",
      "Arquivo data/inf_diario_fi_201909.csv salvo.\n",
      "Arquivo data/inf_diario_fi_201910.csv salvo.\n",
      "Arquivo data/inf_diario_fi_201911.csv salvo.\n",
      "Arquivo data/inf_diario_fi_201912.csv salvo.\n",
      "Arquivo data/inf_diario_fi_202001.csv salvo.\n",
      "Arquivo data/inf_diario_fi_202002.csv salvo.\n",
      "Arquivo data/inf_diario_fi_202003.csv salvo.\n",
      "Arquivo data/inf_diario_fi_202004.csv salvo.\n",
      "Arquivo data/inf_diario_fi_202005.csv salvo.\n"
     ]
    }
   ],
   "source": [
    "file_list = download_files(date_list)"
   ]
  },
  {
   "cell_type": "markdown",
   "metadata": {},
   "source": [
    "## Tratamento\n"
   ]
  },
  {
   "cell_type": "markdown",
   "metadata": {},
   "source": [
    "Antes de entrar na etapa de tratamente é importante que você explore os dados para assim conseguir identificar exatamente quais transformações você deseja aplicar, se é necessário tratar algum campo ou filtrar alguma informação. Não vou demonstrar a etapa de análise pois é necessário um tutorial dedicado somente a esclarecer essa fase. Vamos partir do pressuposto que é necessário realizar as seguintes atividades:\n",
    "\n",
    "1. Juntar todos os arquivos em um só;\n",
    "2. Manter somente as colunas: `CNPJ_FUNDO`, `VL_QUOTA`, `DT_COMPTC`, `VL_PATRIM_LIQ` e `NR_COTST`;\n",
    "3. Transformar a coluna `DT_COMPTC` em objetos [datetime](https://docs.python.org/3/library/datetime.html), que é a estrutura de dados que representa datas no python.\n",
    "\n",
    "Daqui para frente vamos utilizar principalmente a biblioteca [Pandas](https://pandas.pydata.org/), que oferece uma série de ferramentas para facilitar a manipulação e análise de dados. O Pandas oferece uma estrutura de dados tabular chamada [DataFrame](https://pandas.pydata.org/pandas-docs/stable/reference/api/pandas.DataFrame.html) que permite carregar dados de diferentes formatos."
   ]
  },
  {
   "cell_type": "code",
   "execution_count": 9,
   "metadata": {},
   "outputs": [],
   "source": [
    "import pandas as pd"
   ]
  },
  {
   "cell_type": "markdown",
   "metadata": {},
   "source": [
    "### Juntando todos arquivos em um"
   ]
  },
  {
   "cell_type": "markdown",
   "metadata": {},
   "source": [
    "Vamos utilizar a função [read_csv](https://pandas.pydata.org/pandas-docs/stable/reference/api/pandas.read_csv.html) do pandas para ler os arquivos baixados e a função [concat](https://pandas.pydata.org/pandas-docs/stable/reference/api/pandas.concat.html?highlight=concat#pandas-concat) para juntá-los em um só [DataFrame](https://pandas.pydata.org/pandas-docs/stable/reference/api/pandas.DataFrame.html). É importante observar que o separador dos arquivos `csv` baixados não é a vírgula(`,`) e sim o ponto e vírgula(`;`), é necessário especificar essa informação ao ler o arquivo usando a função [read_csv](https://pandas.pydata.org/pandas-docs/stable/reference/api/pandas.read_csv.html). O jeito mais rápido de descobrir qual é o separador de um arquivo `csv` é abrindo-o como um arquivo de texto através de um editor de texto, é possível observar qual o separador utilizado no conteúdo do arquivo.\n",
    "\n",
    "Vamos então criar uma função para concatenar todos os arquivos lidos em um só [DataFrame](https://pandas.pydata.org/pandas-docs/stable/reference/api/pandas.DataFrame.html):"
   ]
  },
  {
   "cell_type": "code",
   "execution_count": 10,
   "metadata": {},
   "outputs": [],
   "source": [
    "def concat_csvs(files, sep=','):\n",
    "    \"\"\"\n",
    "    Concatena todos os arquivos em um só DataFrame\n",
    "    \n",
    "    Parâmetros:\n",
    "        files = Lista do nome e caminho dos arquivos a serem concatenados;\n",
    "        sep = Separador dos arquivos csv's.\n",
    "    \"\"\"\n",
    "    # Gera uma lista onde cada DataFrame é um item da lista\n",
    "    df_list = [pd.read_csv(file, sep=sep) for file in files]\n",
    "    \n",
    "    # Concatena todos os itens da lista em um só DataFrame\n",
    "    df = pd.concat(df_list)\n",
    "    \n",
    "    return df"
   ]
  },
  {
   "cell_type": "markdown",
   "metadata": {},
   "source": [
    "Vamos aproveitar da capacidade do Jupyter Notebook de executar [comandos shell](https://www.geeksforgeeks.org/basic-shell-commands-in-linux/) para listar todos os arquivos salvos no diretório `data/` e armazenar o resultado em uma variável:"
   ]
  },
  {
   "cell_type": "code",
   "execution_count": 11,
   "metadata": {},
   "outputs": [],
   "source": [
    "files = !ls -d data/*"
   ]
  },
  {
   "cell_type": "code",
   "execution_count": 12,
   "metadata": {},
   "outputs": [
    {
     "name": "stdout",
     "output_type": "stream",
     "text": [
      "['data/inf_diario_fi_202001.csv', 'data/inf_diario_fi_202002.csv', 'data/inf_diario_fi_202003.csv', 'data/inf_diario_fi_202004.csv']\n"
     ]
    }
   ],
   "source": [
    "print(files)"
   ]
  },
  {
   "cell_type": "markdown",
   "metadata": {},
   "source": [
    "Agora podemos executar a função `concat_csvs` para gerar nosso [DataFrame](https://pandas.pydata.org/pandas-docs/stable/reference/api/pandas.DataFrame.html) resultante:"
   ]
  },
  {
   "cell_type": "code",
   "execution_count": 13,
   "metadata": {},
   "outputs": [],
   "source": [
    "df = concat_csvs(files, sep=';')"
   ]
  },
  {
   "cell_type": "code",
   "execution_count": 14,
   "metadata": {},
   "outputs": [
    {
     "name": "stdout",
     "output_type": "stream",
     "text": [
      "Quantidade de linhas do DataFrame: 1398741\n",
      "Quantidade de colunas do DataFrame: 8\n"
     ]
    }
   ],
   "source": [
    "print(\"Quantidade de linhas do DataFrame: {}\".format(df.shape[0]))\n",
    "print(\"Quantidade de colunas do DataFrame: {}\".format(df.shape[1]))"
   ]
  },
  {
   "cell_type": "code",
   "execution_count": 15,
   "metadata": {},
   "outputs": [
    {
     "name": "stdout",
     "output_type": "stream",
     "text": [
      "Colunas do DataFrame: ['CNPJ_FUNDO' 'DT_COMPTC' 'VL_TOTAL' 'VL_QUOTA' 'VL_PATRIM_LIQ'\n",
      " 'CAPTC_DIA' 'RESG_DIA' 'NR_COTST']\n"
     ]
    }
   ],
   "source": [
    "print(\"Colunas do DataFrame: {}\".format(df.columns.values))"
   ]
  },
  {
   "cell_type": "markdown",
   "metadata": {},
   "source": [
    "Podemos observar as primeiras colunas do [DataFrame](https://pandas.pydata.org/pandas-docs/stable/reference/api/pandas.DataFrame.html) através do método `head()`."
   ]
  },
  {
   "cell_type": "code",
   "execution_count": 16,
   "metadata": {},
   "outputs": [
    {
     "data": {
      "text/html": [
       "<div>\n",
       "<style scoped>\n",
       "    .dataframe tbody tr th:only-of-type {\n",
       "        vertical-align: middle;\n",
       "    }\n",
       "\n",
       "    .dataframe tbody tr th {\n",
       "        vertical-align: top;\n",
       "    }\n",
       "\n",
       "    .dataframe thead th {\n",
       "        text-align: right;\n",
       "    }\n",
       "</style>\n",
       "<table border=\"1\" class=\"dataframe\">\n",
       "  <thead>\n",
       "    <tr style=\"text-align: right;\">\n",
       "      <th></th>\n",
       "      <th>CNPJ_FUNDO</th>\n",
       "      <th>DT_COMPTC</th>\n",
       "      <th>VL_TOTAL</th>\n",
       "      <th>VL_QUOTA</th>\n",
       "      <th>VL_PATRIM_LIQ</th>\n",
       "      <th>CAPTC_DIA</th>\n",
       "      <th>RESG_DIA</th>\n",
       "      <th>NR_COTST</th>\n",
       "    </tr>\n",
       "  </thead>\n",
       "  <tbody>\n",
       "    <tr>\n",
       "      <th>0</th>\n",
       "      <td>00.017.024/0001-53</td>\n",
       "      <td>2020-01-02</td>\n",
       "      <td>1132491.66</td>\n",
       "      <td>27.225023</td>\n",
       "      <td>1123583.00</td>\n",
       "      <td>0.0</td>\n",
       "      <td>0.0</td>\n",
       "      <td>1</td>\n",
       "    </tr>\n",
       "    <tr>\n",
       "      <th>1</th>\n",
       "      <td>00.017.024/0001-53</td>\n",
       "      <td>2020-01-03</td>\n",
       "      <td>1132685.12</td>\n",
       "      <td>27.224496</td>\n",
       "      <td>1123561.25</td>\n",
       "      <td>0.0</td>\n",
       "      <td>0.0</td>\n",
       "      <td>1</td>\n",
       "    </tr>\n",
       "    <tr>\n",
       "      <th>2</th>\n",
       "      <td>00.017.024/0001-53</td>\n",
       "      <td>2020-01-06</td>\n",
       "      <td>1132881.43</td>\n",
       "      <td>27.225564</td>\n",
       "      <td>1123605.31</td>\n",
       "      <td>0.0</td>\n",
       "      <td>0.0</td>\n",
       "      <td>1</td>\n",
       "    </tr>\n",
       "    <tr>\n",
       "      <th>3</th>\n",
       "      <td>00.017.024/0001-53</td>\n",
       "      <td>2020-01-07</td>\n",
       "      <td>1133076.85</td>\n",
       "      <td>27.226701</td>\n",
       "      <td>1123652.24</td>\n",
       "      <td>0.0</td>\n",
       "      <td>0.0</td>\n",
       "      <td>1</td>\n",
       "    </tr>\n",
       "    <tr>\n",
       "      <th>4</th>\n",
       "      <td>00.017.024/0001-53</td>\n",
       "      <td>2020-01-08</td>\n",
       "      <td>1132948.59</td>\n",
       "      <td>27.227816</td>\n",
       "      <td>1123698.26</td>\n",
       "      <td>0.0</td>\n",
       "      <td>0.0</td>\n",
       "      <td>1</td>\n",
       "    </tr>\n",
       "  </tbody>\n",
       "</table>\n",
       "</div>"
      ],
      "text/plain": [
       "           CNPJ_FUNDO   DT_COMPTC    VL_TOTAL   VL_QUOTA  VL_PATRIM_LIQ  \\\n",
       "0  00.017.024/0001-53  2020-01-02  1132491.66  27.225023     1123583.00   \n",
       "1  00.017.024/0001-53  2020-01-03  1132685.12  27.224496     1123561.25   \n",
       "2  00.017.024/0001-53  2020-01-06  1132881.43  27.225564     1123605.31   \n",
       "3  00.017.024/0001-53  2020-01-07  1133076.85  27.226701     1123652.24   \n",
       "4  00.017.024/0001-53  2020-01-08  1132948.59  27.227816     1123698.26   \n",
       "\n",
       "   CAPTC_DIA  RESG_DIA  NR_COTST  \n",
       "0        0.0       0.0         1  \n",
       "1        0.0       0.0         1  \n",
       "2        0.0       0.0         1  \n",
       "3        0.0       0.0         1  \n",
       "4        0.0       0.0         1  "
      ]
     },
     "execution_count": 16,
     "metadata": {},
     "output_type": "execute_result"
    }
   ],
   "source": [
    "df.head()"
   ]
  },
  {
   "cell_type": "markdown",
   "metadata": {},
   "source": [
    "### Removendo colunas"
   ]
  },
  {
   "cell_type": "markdown",
   "metadata": {},
   "source": [
    "Vamos remover as colunas que não nos interessam nesse momento, que são: `VL_TOTAL`, `CAPTC_DIA` e `RESG_DIA`. Para isso vamos  utilizar a função [drop](https://pandas.pydata.org/pandas-docs/stable/reference/api/pandas.DataFrame.drop.html?highlight=drop#pandas-dataframe-drop) do pandas:"
   ]
  },
  {
   "cell_type": "code",
   "execution_count": 17,
   "metadata": {},
   "outputs": [],
   "source": [
    "df_res = df.drop(columns=['VL_TOTAL', 'CAPTC_DIA', 'RESG_DIA'])"
   ]
  },
  {
   "cell_type": "code",
   "execution_count": 18,
   "metadata": {},
   "outputs": [
    {
     "name": "stdout",
     "output_type": "stream",
     "text": [
      "Colunas do DataFrame resultante: ['CNPJ_FUNDO' 'DT_COMPTC' 'VL_QUOTA' 'VL_PATRIM_LIQ' 'NR_COTST']\n"
     ]
    }
   ],
   "source": [
    "print(\"Colunas do DataFrame resultante: {}\".format(df_res.columns.values))"
   ]
  },
  {
   "cell_type": "markdown",
   "metadata": {},
   "source": [
    "O novo [DataFrame](https://pandas.pydata.org/pandas-docs/stable/reference/api/pandas.DataFrame.html) possui somente as informações que consideramos necessárias."
   ]
  },
  {
   "cell_type": "markdown",
   "metadata": {},
   "source": [
    "### Transformando coluna de data"
   ]
  },
  {
   "cell_type": "markdown",
   "metadata": {},
   "source": [
    "O pandas oferece a função [to_datetime](https://pandas.pydata.org/pandas-docs/stable/reference/api/pandas.to_datetime.html?highlight=to_datetime#pandas-to-datetime) para facilitar a transformação de colunas em objetos [datetime](https://docs.python.org/3/library/datetime.html). Mas por que transformar as datas que estão em _string_ para objetos [datetime](https://docs.python.org/3/library/datetime.html)? Esse tipo de estrutura de dados foi criado justamente para facilitar a manipulação de datas, permitindo ordenar, somar e subtrair períodos(como fizemos na função `generate_dates`) e ao exportar nossos dados para um banco de dados a informação que aquela coluna contém datas se manterá(dependendo do banco)."
   ]
  },
  {
   "cell_type": "markdown",
   "metadata": {},
   "source": [
    "A função [to_datetime](https://pandas.pydata.org/pandas-docs/stable/reference/api/pandas.to_datetime.html?highlight=to_datetime#pandas-to-datetime) recebe como principais argumentos a coluna que deve ser transformada e o formato que se encontram as datas. O formato pode ser especificado seguindo [os códigos de formatação descritos na documentação do Python](https://docs.python.org/3/library/datetime.html#strftime-and-strptime-format-codes)."
   ]
  },
  {
   "cell_type": "code",
   "execution_count": 19,
   "metadata": {},
   "outputs": [],
   "source": [
    "# Carregando a coluna DT_COMPTC com resultado a função to_datetime\n",
    "\n",
    "df_res.DT_COMPTC = pd.to_datetime(df.DT_COMPTC, format=\"%Y-%m-%d\")"
   ]
  },
  {
   "cell_type": "markdown",
   "metadata": {},
   "source": [
    "## Carregamento "
   ]
  },
  {
   "cell_type": "markdown",
   "metadata": {},
   "source": [
    "Vou apresentar **duas** maneiras de exportar o resultado do processo de extração e transformação. O primeiro é mais simples, vamos exportar o resultado no formato `csv`, já a segunda abordagem demonstra como exportar o resultado para um banco de dados [MongoDB](https://www.mongodb.com/). A segunda abordagem é comum em cenários onde os dados resultantes devem ser consumidos por alguma aplicação web ou ferramenta de _Business intelligence_."
   ]
  },
  {
   "cell_type": "markdown",
   "metadata": {},
   "source": [
    "### Exportando no formato CSV"
   ]
  },
  {
   "cell_type": "markdown",
   "metadata": {},
   "source": [
    "Para exportar o [DataFrame](https://pandas.pydata.org/pandas-docs/stable/reference/api/pandas.DataFrame.html) resultando em formato `csv` vamos utilizar a função [to_csv](https://pandas.pydata.org/pandas-docs/stable/reference/api/pandas.DataFrame.to_csv.html) do pandas:"
   ]
  },
  {
   "cell_type": "code",
   "execution_count": 20,
   "metadata": {},
   "outputs": [],
   "source": [
    "df_res.to_csv('cotacoes_fundos.csv')"
   ]
  },
  {
   "cell_type": "markdown",
   "metadata": {},
   "source": [
    "### Exportando para o banco [MongoDB](https://www.mongodb.com/) "
   ]
  },
  {
   "cell_type": "markdown",
   "metadata": {},
   "source": [
    "O [MongoDB](https://www.mongodb.com/) é um banco de dados não relacional que ganhou popularidade nos últimos anos por sua escalabilidade e facilidade de configuração. Para exportar o resultado para o banco [MongoDB](https://www.mongodb.com/) vamos utilizar a biblioteca [pymongo](https://pymongo.readthedocs.io/en/stable/) que oferece um conjunto de métodos para facilitar esse tipo de operação de carregamento, atualização, etc."
   ]
  },
  {
   "cell_type": "markdown",
   "metadata": {},
   "source": [
    "Primeiro vamos importar a classe [MongoClient](https://pymongo.readthedocs.io/en/stable/tutorial.html?highlight=MongoClient#making-a-connection-with-mongoclient) que serve para realizar a conexão com o banco de destino:"
   ]
  },
  {
   "cell_type": "code",
   "execution_count": 21,
   "metadata": {},
   "outputs": [],
   "source": [
    "from pymongo import MongoClient"
   ]
  },
  {
   "cell_type": "markdown",
   "metadata": {},
   "source": [
    "Criamos a conexão passando as informações de endereço(_host_) e porta(_port_):"
   ]
  },
  {
   "cell_type": "code",
   "execution_count": 28,
   "metadata": {},
   "outputs": [],
   "source": [
    "client = MongoClient(host='localhost', port=27017)"
   ]
  },
  {
   "cell_type": "markdown",
   "metadata": {},
   "source": [
    "O MongoDB é estruturado através de [bases de dados e coleções](https://docs.mongodb.com/manual/core/databases-and-collections/). As bases de dados guardam coleções de documentos. Onde cada coleção é composta por um conjunto de dados(ou como é chamado pelo MongoDB, documentos) que são relacionados. No nosso caso vamos guardar os dados em uma coleção chamada `fundos`, já que os dados correspondem aos fundos de investimento.\n",
    " \n",
    " \n",
    "![](https://docs.mongodb.com/manual/_images/crud-annotated-collection.bakedsvg.svg)"
   ]
  },
  {
   "cell_type": "markdown",
   "metadata": {},
   "source": [
    "Selecionamos o banco com o nome `web` e a coleção com o nome `fundos`:"
   ]
  },
  {
   "cell_type": "code",
   "execution_count": 29,
   "metadata": {},
   "outputs": [],
   "source": [
    "db = client.web\n",
    "collection = db.fundos"
   ]
  },
  {
   "cell_type": "markdown",
   "metadata": {},
   "source": [
    "Para conseguir fazer o upload do resultado no banco MongoDB precisamos transformar as informações que se encontram em formato tabular(DataFrame) para um [dicionário](https://docs.python.org/3/tutorial/datastructures.html#dictionaries). O pandas oferece a função [to_dict]() para realizar esse tipo de operação. Precisamos especificar que queremos transformar cada linha da tabela do DataFrame em um registro no dicionário gerado, para isso usamos o parâmetro `orient`:"
   ]
  },
  {
   "cell_type": "code",
   "execution_count": 24,
   "metadata": {},
   "outputs": [],
   "source": [
    "dict_res = df_res.to_dict(orient='records')"
   ]
  },
  {
   "cell_type": "markdown",
   "metadata": {},
   "source": [
    "Por fim, carregamos os registros na coleção:"
   ]
  },
  {
   "cell_type": "code",
   "execution_count": 30,
   "metadata": {},
   "outputs": [
    {
     "data": {
      "text/plain": [
       "<pymongo.results.InsertManyResult at 0x7f895d5773c8>"
      ]
     },
     "execution_count": 30,
     "metadata": {},
     "output_type": "execute_result"
    }
   ],
   "source": [
    "db.fundos.insert_many(dict_res)"
   ]
  },
  {
   "cell_type": "markdown",
   "metadata": {},
   "source": [
    "# Conclusão "
   ]
  },
  {
   "cell_type": "markdown",
   "metadata": {},
   "source": [
    "Durante o tutorial seguimos o processo conhecido como **ETL(_Extract, Transform and Load_)**, que é composto primeiramente da etapa de extração, onde é realizada a coleta dos dados das diferentes fontes. A segunda etapa consiste na fase de transformação, onde são executadas operações de agregação e limpeza, aplicando também um conjunto de regras que são definidas a partir do contexto negocial. Finalmente, a terceira etapa é composta pela fase de carregamento, onde as informações resultantes das transformações são enviadas para uma base de dados onde as aplicações cliente poderão consumir o resultado.\n",
    "\n",
    "Claro que a solução que implementamos aqui é simples e trabalha com um pequeno volume de dados, a partir do momento em que o volume de dados aumenta é preciso buscar ferramentas otimizadas, mas o processo no geral continua o mesmo."
   ]
  },
  {
   "cell_type": "markdown",
   "metadata": {},
   "source": [
    "## Referência "
   ]
  },
  {
   "cell_type": "markdown",
   "metadata": {},
   "source": [
    "VASSILIADIS, P.; SIMITSIS, A.; SKIADOPOULOS, S. Conceptual modeling for ETL processes. In: Proceedings of the 5th ACM international workshop on Data Warehousing and OLAP - DOLAP. ACM Press, 2002. Disponível em: <https://doi.org/10.1145%2F583890.583893>."
   ]
  }
 ],
 "metadata": {
  "kernelspec": {
   "display_name": "Python 3",
   "language": "python",
   "name": "python3"
  },
  "language_info": {
   "codemirror_mode": {
    "name": "ipython",
    "version": 3
   },
   "file_extension": ".py",
   "mimetype": "text/x-python",
   "name": "python",
   "nbconvert_exporter": "python",
   "pygments_lexer": "ipython3",
   "version": "3.8.2"
  }
 },
 "nbformat": 4,
 "nbformat_minor": 4
}
